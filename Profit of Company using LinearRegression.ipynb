{
 "cells": [
  {
   "cell_type": "code",
   "execution_count": 27,
   "id": "36db67dd",
   "metadata": {},
   "outputs": [],
   "source": [
    "import numpy as np\n",
    "import pandas as pd"
   ]
  },
  {
   "cell_type": "code",
   "execution_count": 28,
   "id": "7af4937b",
   "metadata": {},
   "outputs": [],
   "source": [
    "df=pd.read_csv(\"1000_Companies.csv\")"
   ]
  },
  {
   "cell_type": "code",
   "execution_count": 50,
   "id": "d15e08b6",
   "metadata": {},
   "outputs": [
    {
     "data": {
      "text/html": [
       "<div>\n",
       "<style scoped>\n",
       "    .dataframe tbody tr th:only-of-type {\n",
       "        vertical-align: middle;\n",
       "    }\n",
       "\n",
       "    .dataframe tbody tr th {\n",
       "        vertical-align: top;\n",
       "    }\n",
       "\n",
       "    .dataframe thead th {\n",
       "        text-align: right;\n",
       "    }\n",
       "</style>\n",
       "<table border=\"1\" class=\"dataframe\">\n",
       "  <thead>\n",
       "    <tr style=\"text-align: right;\">\n",
       "      <th></th>\n",
       "      <th>R&amp;D Spend</th>\n",
       "      <th>Administration</th>\n",
       "      <th>Marketing Spend</th>\n",
       "      <th>State</th>\n",
       "      <th>Profit</th>\n",
       "    </tr>\n",
       "  </thead>\n",
       "  <tbody>\n",
       "    <tr>\n",
       "      <th>0</th>\n",
       "      <td>165349.20</td>\n",
       "      <td>136897.80</td>\n",
       "      <td>471784.10</td>\n",
       "      <td>New York</td>\n",
       "      <td>192261.83</td>\n",
       "    </tr>\n",
       "    <tr>\n",
       "      <th>1</th>\n",
       "      <td>162597.70</td>\n",
       "      <td>151377.59</td>\n",
       "      <td>443898.53</td>\n",
       "      <td>California</td>\n",
       "      <td>191792.06</td>\n",
       "    </tr>\n",
       "    <tr>\n",
       "      <th>2</th>\n",
       "      <td>153441.51</td>\n",
       "      <td>101145.55</td>\n",
       "      <td>407934.54</td>\n",
       "      <td>Florida</td>\n",
       "      <td>191050.39</td>\n",
       "    </tr>\n",
       "    <tr>\n",
       "      <th>3</th>\n",
       "      <td>144372.41</td>\n",
       "      <td>118671.85</td>\n",
       "      <td>383199.62</td>\n",
       "      <td>New York</td>\n",
       "      <td>182901.99</td>\n",
       "    </tr>\n",
       "    <tr>\n",
       "      <th>4</th>\n",
       "      <td>142107.34</td>\n",
       "      <td>91391.77</td>\n",
       "      <td>366168.42</td>\n",
       "      <td>Florida</td>\n",
       "      <td>166187.94</td>\n",
       "    </tr>\n",
       "    <tr>\n",
       "      <th>5</th>\n",
       "      <td>131876.90</td>\n",
       "      <td>99814.71</td>\n",
       "      <td>362861.36</td>\n",
       "      <td>New York</td>\n",
       "      <td>156991.12</td>\n",
       "    </tr>\n",
       "    <tr>\n",
       "      <th>6</th>\n",
       "      <td>134615.46</td>\n",
       "      <td>147198.87</td>\n",
       "      <td>127716.82</td>\n",
       "      <td>California</td>\n",
       "      <td>156122.51</td>\n",
       "    </tr>\n",
       "    <tr>\n",
       "      <th>7</th>\n",
       "      <td>130298.13</td>\n",
       "      <td>145530.06</td>\n",
       "      <td>323876.68</td>\n",
       "      <td>Florida</td>\n",
       "      <td>155752.60</td>\n",
       "    </tr>\n",
       "    <tr>\n",
       "      <th>8</th>\n",
       "      <td>120542.52</td>\n",
       "      <td>148718.95</td>\n",
       "      <td>311613.29</td>\n",
       "      <td>New York</td>\n",
       "      <td>152211.77</td>\n",
       "    </tr>\n",
       "    <tr>\n",
       "      <th>9</th>\n",
       "      <td>123334.88</td>\n",
       "      <td>108679.17</td>\n",
       "      <td>304981.62</td>\n",
       "      <td>California</td>\n",
       "      <td>149759.96</td>\n",
       "    </tr>\n",
       "  </tbody>\n",
       "</table>\n",
       "</div>"
      ],
      "text/plain": [
       "   R&D Spend  Administration  Marketing Spend       State     Profit\n",
       "0  165349.20       136897.80        471784.10    New York  192261.83\n",
       "1  162597.70       151377.59        443898.53  California  191792.06\n",
       "2  153441.51       101145.55        407934.54     Florida  191050.39\n",
       "3  144372.41       118671.85        383199.62    New York  182901.99\n",
       "4  142107.34        91391.77        366168.42     Florida  166187.94\n",
       "5  131876.90        99814.71        362861.36    New York  156991.12\n",
       "6  134615.46       147198.87        127716.82  California  156122.51\n",
       "7  130298.13       145530.06        323876.68     Florida  155752.60\n",
       "8  120542.52       148718.95        311613.29    New York  152211.77\n",
       "9  123334.88       108679.17        304981.62  California  149759.96"
      ]
     },
     "execution_count": 50,
     "metadata": {},
     "output_type": "execute_result"
    }
   ],
   "source": [
    "df.head(10)"
   ]
  },
  {
   "cell_type": "code",
   "execution_count": 30,
   "id": "61e7285e",
   "metadata": {},
   "outputs": [],
   "source": [
    "import seaborn as sns"
   ]
  },
  {
   "cell_type": "code",
   "execution_count": 31,
   "id": "a9db2993",
   "metadata": {},
   "outputs": [
    {
     "data": {
      "text/plain": [
       "<AxesSubplot:xlabel='State', ylabel='count'>"
      ]
     },
     "execution_count": 31,
     "metadata": {},
     "output_type": "execute_result"
    },
    {
     "data": {
      "image/png": "[encoded data removed]",
      "text/plain": [
       "<Figure size 640x480 with 1 Axes>"
      ]
     },
     "metadata": {},
     "output_type": "display_data"
    }
   ],
   "source": [
    "sns.countplot(x=df[\"State\"])"
   ]
  },
  {
   "cell_type": "code",
   "execution_count": 32,
   "id": "76307bd8",
   "metadata": {},
   "outputs": [
    {
     "data": {
      "text/plain": [
       "California    344\n",
       "New York      334\n",
       "Florida       322\n",
       "Name: State, dtype: int64"
      ]
     },
     "execution_count": 32,
     "metadata": {},
     "output_type": "execute_result"
    }
   ],
   "source": [
    "df[\"State\"].value_counts()"
   ]
  },
  {
   "cell_type": "code",
   "execution_count": 4,
   "id": "a77ebe8a",
   "metadata": {},
   "outputs": [
    {
     "name": "stdout",
     "output_type": "stream",
     "text": [
      "<class 'pandas.core.frame.DataFrame'>\n",
      "RangeIndex: 1000 entries, 0 to 999\n",
      "Data columns (total 5 columns):\n",
      " #   Column           Non-Null Count  Dtype  \n",
      "---  ------           --------------  -----  \n",
      " 0   R&D Spend        1000 non-null   float64\n",
      " 1   Administration   1000 non-null   float64\n",
      " 2   Marketing Spend  1000 non-null   float64\n",
      " 3   State            1000 non-null   object \n",
      " 4   Profit           1000 non-null   float64\n",
      "dtypes: float64(4), object(1)\n",
      "memory usage: 39.2+ KB\n"
     ]
    }
   ],
   "source": [
    "df.info()"
   ]
  },
  {
   "cell_type": "code",
   "execution_count": 5,
   "id": "4665ffa1",
   "metadata": {},
   "outputs": [
    {
     "data": {
      "text/plain": [
       "R&D Spend          0\n",
       "Administration     0\n",
       "Marketing Spend    0\n",
       "State              0\n",
       "Profit             0\n",
       "dtype: int64"
      ]
     },
     "execution_count": 5,
     "metadata": {},
     "output_type": "execute_result"
    }
   ],
   "source": [
    "df.isnull().sum()"
   ]
  },
  {
   "cell_type": "code",
   "execution_count": 7,
   "id": "05fc34ba",
   "metadata": {},
   "outputs": [],
   "source": [
    "from sklearn.preprocessing import OrdinalEncoder"
   ]
  },
  {
   "cell_type": "code",
   "execution_count": 9,
   "id": "6dd3f756",
   "metadata": {},
   "outputs": [],
   "source": [
    "encoder=OrdinalEncoder()\n",
    "c=['State']\n",
    "df[c]=encoder.fit_transform(df[c])"
   ]
  },
  {
   "cell_type": "code",
   "execution_count": 10,
   "id": "f1f1d456",
   "metadata": {},
   "outputs": [
    {
     "data": {
      "text/html": [
       "<div>\n",
       "<style scoped>\n",
       "    .dataframe tbody tr th:only-of-type {\n",
       "        vertical-align: middle;\n",
       "    }\n",
       "\n",
       "    .dataframe tbody tr th {\n",
       "        vertical-align: top;\n",
       "    }\n",
       "\n",
       "    .dataframe thead th {\n",
       "        text-align: right;\n",
       "    }\n",
       "</style>\n",
       "<table border=\"1\" class=\"dataframe\">\n",
       "  <thead>\n",
       "    <tr style=\"text-align: right;\">\n",
       "      <th></th>\n",
       "      <th>R&amp;D Spend</th>\n",
       "      <th>Administration</th>\n",
       "      <th>Marketing Spend</th>\n",
       "      <th>State</th>\n",
       "      <th>Profit</th>\n",
       "    </tr>\n",
       "  </thead>\n",
       "  <tbody>\n",
       "    <tr>\n",
       "      <th>0</th>\n",
       "      <td>165349.20</td>\n",
       "      <td>136897.80</td>\n",
       "      <td>471784.10</td>\n",
       "      <td>2.0</td>\n",
       "      <td>192261.83</td>\n",
       "    </tr>\n",
       "    <tr>\n",
       "      <th>1</th>\n",
       "      <td>162597.70</td>\n",
       "      <td>151377.59</td>\n",
       "      <td>443898.53</td>\n",
       "      <td>0.0</td>\n",
       "      <td>191792.06</td>\n",
       "    </tr>\n",
       "    <tr>\n",
       "      <th>2</th>\n",
       "      <td>153441.51</td>\n",
       "      <td>101145.55</td>\n",
       "      <td>407934.54</td>\n",
       "      <td>1.0</td>\n",
       "      <td>191050.39</td>\n",
       "    </tr>\n",
       "    <tr>\n",
       "      <th>3</th>\n",
       "      <td>144372.41</td>\n",
       "      <td>118671.85</td>\n",
       "      <td>383199.62</td>\n",
       "      <td>2.0</td>\n",
       "      <td>182901.99</td>\n",
       "    </tr>\n",
       "    <tr>\n",
       "      <th>4</th>\n",
       "      <td>142107.34</td>\n",
       "      <td>91391.77</td>\n",
       "      <td>366168.42</td>\n",
       "      <td>1.0</td>\n",
       "      <td>166187.94</td>\n",
       "    </tr>\n",
       "  </tbody>\n",
       "</table>\n",
       "</div>"
      ],
      "text/plain": [
       "   R&D Spend  Administration  Marketing Spend  State     Profit\n",
       "0  165349.20       136897.80        471784.10    2.0  192261.83\n",
       "1  162597.70       151377.59        443898.53    0.0  191792.06\n",
       "2  153441.51       101145.55        407934.54    1.0  191050.39\n",
       "3  144372.41       118671.85        383199.62    2.0  182901.99\n",
       "4  142107.34        91391.77        366168.42    1.0  166187.94"
      ]
     },
     "execution_count": 10,
     "metadata": {},
     "output_type": "execute_result"
    }
   ],
   "source": [
    "df.head()"
   ]
  },
  {
   "cell_type": "code",
   "execution_count": 11,
   "id": "fb355a95",
   "metadata": {},
   "outputs": [
    {
     "data": {
      "text/html": [
       "<style type=\"text/css\">\n",
       "#T_d8882_row0_col0, #T_d8882_row1_col1, #T_d8882_row2_col2, #T_d8882_row3_col3, #T_d8882_row4_col4 {\n",
       "  background-color: #023858;\n",
       "  color: #f1f1f1;\n",
       "}\n",
       "#T_d8882_row0_col1 {\n",
       "  background-color: #4697c4;\n",
       "  color: #f1f1f1;\n",
       "}\n",
       "#T_d8882_row0_col2, #T_d8882_row2_col0 {\n",
       "  background-color: #023d60;\n",
       "  color: #f1f1f1;\n",
       "}\n",
       "#T_d8882_row0_col3, #T_d8882_row2_col3, #T_d8882_row4_col3 {\n",
       "  background-color: #fdf5fa;\n",
       "  color: #000000;\n",
       "}\n",
       "#T_d8882_row0_col4, #T_d8882_row4_col0 {\n",
       "  background-color: #03466e;\n",
       "  color: #f1f1f1;\n",
       "}\n",
       "#T_d8882_row1_col0 {\n",
       "  background-color: #4a98c5;\n",
       "  color: #f1f1f1;\n",
       "}\n",
       "#T_d8882_row1_col2 {\n",
       "  background-color: #69a5cc;\n",
       "  color: #f1f1f1;\n",
       "}\n",
       "#T_d8882_row1_col3, #T_d8882_row3_col0, #T_d8882_row3_col1, #T_d8882_row3_col2, #T_d8882_row3_col4 {\n",
       "  background-color: #fff7fb;\n",
       "  color: #000000;\n",
       "}\n",
       "#T_d8882_row1_col4 {\n",
       "  background-color: #0771b1;\n",
       "  color: #f1f1f1;\n",
       "}\n",
       "#T_d8882_row2_col1 {\n",
       "  background-color: #65a3cb;\n",
       "  color: #f1f1f1;\n",
       "}\n",
       "#T_d8882_row2_col4, #T_d8882_row4_col2 {\n",
       "  background-color: #034e7b;\n",
       "  color: #f1f1f1;\n",
       "}\n",
       "#T_d8882_row4_col1 {\n",
       "  background-color: #0570b0;\n",
       "  color: #f1f1f1;\n",
       "}\n",
       "</style>\n",
       "<table id=\"T_d8882\">\n",
       "  <thead>\n",
       "    <tr>\n",
       "      <th class=\"blank level0\" >&nbsp;</th>\n",
       "      <th id=\"T_d8882_level0_col0\" class=\"col_heading level0 col0\" >R&D Spend</th>\n",
       "      <th id=\"T_d8882_level0_col1\" class=\"col_heading level0 col1\" >Administration</th>\n",
       "      <th id=\"T_d8882_level0_col2\" class=\"col_heading level0 col2\" >Marketing Spend</th>\n",
       "      <th id=\"T_d8882_level0_col3\" class=\"col_heading level0 col3\" >State</th>\n",
       "      <th id=\"T_d8882_level0_col4\" class=\"col_heading level0 col4\" >Profit</th>\n",
       "    </tr>\n",
       "  </thead>\n",
       "  <tbody>\n",
       "    <tr>\n",
       "      <th id=\"T_d8882_level0_row0\" class=\"row_heading level0 row0\" >R&D Spend</th>\n",
       "      <td id=\"T_d8882_row0_col0\" class=\"data row0 col0\" >1.000000</td>\n",
       "      <td id=\"T_d8882_row0_col1\" class=\"data row0 col1\" >0.582434</td>\n",
       "      <td id=\"T_d8882_row0_col2\" class=\"data row0 col2\" >0.978407</td>\n",
       "      <td id=\"T_d8882_row0_col3\" class=\"data row0 col3\" >-0.001360</td>\n",
       "      <td id=\"T_d8882_row0_col4\" class=\"data row0 col4\" >0.945245</td>\n",
       "    </tr>\n",
       "    <tr>\n",
       "      <th id=\"T_d8882_level0_row1\" class=\"row_heading level0 row1\" >Administration</th>\n",
       "      <td id=\"T_d8882_row1_col0\" class=\"data row1 col0\" >0.582434</td>\n",
       "      <td id=\"T_d8882_row1_col1\" class=\"data row1 col1\" >1.000000</td>\n",
       "      <td id=\"T_d8882_row1_col2\" class=\"data row1 col2\" >0.520465</td>\n",
       "      <td id=\"T_d8882_row1_col3\" class=\"data row1 col3\" >-0.018386</td>\n",
       "      <td id=\"T_d8882_row1_col4\" class=\"data row1 col4\" >0.741560</td>\n",
       "    </tr>\n",
       "    <tr>\n",
       "      <th id=\"T_d8882_level0_row2\" class=\"row_heading level0 row2\" >Marketing Spend</th>\n",
       "      <td id=\"T_d8882_row2_col0\" class=\"data row2 col0\" >0.978407</td>\n",
       "      <td id=\"T_d8882_row2_col1\" class=\"data row2 col1\" >0.520465</td>\n",
       "      <td id=\"T_d8882_row2_col2\" class=\"data row2 col2\" >1.000000</td>\n",
       "      <td id=\"T_d8882_row2_col3\" class=\"data row2 col3\" >-0.001420</td>\n",
       "      <td id=\"T_d8882_row2_col4\" class=\"data row2 col4\" >0.917270</td>\n",
       "    </tr>\n",
       "    <tr>\n",
       "      <th id=\"T_d8882_level0_row3\" class=\"row_heading level0 row3\" >State</th>\n",
       "      <td id=\"T_d8882_row3_col0\" class=\"data row3 col0\" >-0.001360</td>\n",
       "      <td id=\"T_d8882_row3_col1\" class=\"data row3 col1\" >-0.018386</td>\n",
       "      <td id=\"T_d8882_row3_col2\" class=\"data row3 col2\" >-0.001420</td>\n",
       "      <td id=\"T_d8882_row3_col3\" class=\"data row3 col3\" >1.000000</td>\n",
       "      <td id=\"T_d8882_row3_col4\" class=\"data row3 col4\" >-0.005718</td>\n",
       "    </tr>\n",
       "    <tr>\n",
       "      <th id=\"T_d8882_level0_row4\" class=\"row_heading level0 row4\" >Profit</th>\n",
       "      <td id=\"T_d8882_row4_col0\" class=\"data row4 col0\" >0.945245</td>\n",
       "      <td id=\"T_d8882_row4_col1\" class=\"data row4 col1\" >0.741560</td>\n",
       "      <td id=\"T_d8882_row4_col2\" class=\"data row4 col2\" >0.917270</td>\n",
       "      <td id=\"T_d8882_row4_col3\" class=\"data row4 col3\" >-0.005718</td>\n",
       "      <td id=\"T_d8882_row4_col4\" class=\"data row4 col4\" >1.000000</td>\n",
       "    </tr>\n",
       "  </tbody>\n",
       "</table>\n"
      ],
      "text/plain": [
       "<pandas.io.formats.style.Styler at 0x245530ab880>"
      ]
     },
     "execution_count": 11,
     "metadata": {},
     "output_type": "execute_result"
    }
   ],
   "source": [
    "corr=df.corr()\n",
    "corr.style.background_gradient()"
   ]
  },
  {
   "cell_type": "code",
   "execution_count": 13,
   "id": "150e3181",
   "metadata": {},
   "outputs": [],
   "source": [
    "x=df[[\"R&D Spend\",\"Administration\",\"Marketing Spend\",\"State\"]]\n",
    "y=df[\"Profit\"]"
   ]
  },
  {
   "cell_type": "code",
   "execution_count": 15,
   "id": "272335a7",
   "metadata": {},
   "outputs": [],
   "source": [
    "from sklearn.model_selection import train_test_split\n",
    "x_train,x_test,y_train,y_test=train_test_split(x,y,test_size=0.2,random_state=0)"
   ]
  },
  {
   "cell_type": "code",
   "execution_count": 16,
   "id": "ee0cf483",
   "metadata": {},
   "outputs": [
    {
     "data": {
      "text/html": [
       "<div>\n",
       "<style scoped>\n",
       "    .dataframe tbody tr th:only-of-type {\n",
       "        vertical-align: middle;\n",
       "    }\n",
       "\n",
       "    .dataframe tbody tr th {\n",
       "        vertical-align: top;\n",
       "    }\n",
       "\n",
       "    .dataframe thead th {\n",
       "        text-align: right;\n",
       "    }\n",
       "</style>\n",
       "<table border=\"1\" class=\"dataframe\">\n",
       "  <thead>\n",
       "    <tr style=\"text-align: right;\">\n",
       "      <th></th>\n",
       "      <th>R&amp;D Spend</th>\n",
       "      <th>Administration</th>\n",
       "      <th>Marketing Spend</th>\n",
       "      <th>State</th>\n",
       "    </tr>\n",
       "  </thead>\n",
       "  <tbody>\n",
       "    <tr>\n",
       "      <th>687</th>\n",
       "      <td>38385.0</td>\n",
       "      <td>116125.9672</td>\n",
       "      <td>142843.00150</td>\n",
       "      <td>0.0</td>\n",
       "    </tr>\n",
       "    <tr>\n",
       "      <th>500</th>\n",
       "      <td>125610.0</td>\n",
       "      <td>129007.7526</td>\n",
       "      <td>311143.87720</td>\n",
       "      <td>1.0</td>\n",
       "    </tr>\n",
       "    <tr>\n",
       "      <th>332</th>\n",
       "      <td>101322.0</td>\n",
       "      <td>125420.7901</td>\n",
       "      <td>264280.11490</td>\n",
       "      <td>0.0</td>\n",
       "    </tr>\n",
       "    <tr>\n",
       "      <th>979</th>\n",
       "      <td>12914.0</td>\n",
       "      <td>112364.2939</td>\n",
       "      <td>93696.63744</td>\n",
       "      <td>0.0</td>\n",
       "    </tr>\n",
       "    <tr>\n",
       "      <th>817</th>\n",
       "      <td>109909.0</td>\n",
       "      <td>126688.9574</td>\n",
       "      <td>280848.75480</td>\n",
       "      <td>2.0</td>\n",
       "    </tr>\n",
       "    <tr>\n",
       "      <th>...</th>\n",
       "      <td>...</td>\n",
       "      <td>...</td>\n",
       "      <td>...</td>\n",
       "      <td>...</td>\n",
       "    </tr>\n",
       "    <tr>\n",
       "      <th>835</th>\n",
       "      <td>110391.0</td>\n",
       "      <td>126760.1413</td>\n",
       "      <td>281778.77510</td>\n",
       "      <td>0.0</td>\n",
       "    </tr>\n",
       "    <tr>\n",
       "      <th>192</th>\n",
       "      <td>53078.0</td>\n",
       "      <td>118295.8964</td>\n",
       "      <td>171193.18510</td>\n",
       "      <td>0.0</td>\n",
       "    </tr>\n",
       "    <tr>\n",
       "      <th>629</th>\n",
       "      <td>22876.0</td>\n",
       "      <td>113835.5275</td>\n",
       "      <td>112918.34360</td>\n",
       "      <td>0.0</td>\n",
       "    </tr>\n",
       "    <tr>\n",
       "      <th>559</th>\n",
       "      <td>66766.0</td>\n",
       "      <td>120317.4026</td>\n",
       "      <td>197604.21850</td>\n",
       "      <td>0.0</td>\n",
       "    </tr>\n",
       "    <tr>\n",
       "      <th>684</th>\n",
       "      <td>112108.0</td>\n",
       "      <td>127013.7157</td>\n",
       "      <td>285091.73130</td>\n",
       "      <td>0.0</td>\n",
       "    </tr>\n",
       "  </tbody>\n",
       "</table>\n",
       "<p>800 rows × 4 columns</p>\n",
       "</div>"
      ],
      "text/plain": [
       "     R&D Spend  Administration  Marketing Spend  State\n",
       "687    38385.0     116125.9672     142843.00150    0.0\n",
       "500   125610.0     129007.7526     311143.87720    1.0\n",
       "332   101322.0     125420.7901     264280.11490    0.0\n",
       "979    12914.0     112364.2939      93696.63744    0.0\n",
       "817   109909.0     126688.9574     280848.75480    2.0\n",
       "..         ...             ...              ...    ...\n",
       "835   110391.0     126760.1413     281778.77510    0.0\n",
       "192    53078.0     118295.8964     171193.18510    0.0\n",
       "629    22876.0     113835.5275     112918.34360    0.0\n",
       "559    66766.0     120317.4026     197604.21850    0.0\n",
       "684   112108.0     127013.7157     285091.73130    0.0\n",
       "\n",
       "[800 rows x 4 columns]"
      ]
     },
     "execution_count": 16,
     "metadata": {},
     "output_type": "execute_result"
    }
   ],
   "source": [
    "x_train"
   ]
  },
  {
   "cell_type": "code",
   "execution_count": 17,
   "id": "53373c54",
   "metadata": {},
   "outputs": [],
   "source": [
    "import matplotlib.pyplot as plt\n",
    "%matplotlib inline"
   ]
  },
  {
   "cell_type": "code",
   "execution_count": 26,
   "id": "e28f89a8",
   "metadata": {},
   "outputs": [
    {
     "data": {
      "image/png": "[encoded data removed]",
      "text/plain": [
       "<Figure size 640x480 with 1 Axes>"
      ]
     },
     "metadata": {},
     "output_type": "display_data"
    }
   ],
   "source": [
    "df.plot(kind='scatter',x='R&D Spend',y='Profit',color='yellow')\n",
    "plt.title(\"Expenditure Vs Profit\")\n",
    "plt.show()"
   ]
  },
  {
   "cell_type": "code",
   "execution_count": 33,
   "id": "1b3d3533",
   "metadata": {},
   "outputs": [
    {
     "data": {
      "image/png": "[encoded data removed]",
      "text/plain": [
       "<Figure size 640x480 with 1 Axes>"
      ]
     },
     "metadata": {},
     "output_type": "display_data"
    }
   ],
   "source": [
    "df.plot(kind='scatter',x='Marketing Spend',y='Profit',color='orange')\n",
    "plt.show()"
   ]
  },
  {
   "cell_type": "code",
   "execution_count": 49,
   "id": "7fe3e613",
   "metadata": {},
   "outputs": [
    {
     "data": {
      "image/png": "[encoded data removed]",
      "text/plain": [
       "<Figure size 640x480 with 1 Axes>"
      ]
     },
     "metadata": {},
     "output_type": "display_data"
    }
   ],
   "source": [
    "df.plot(kind='scatter',x='State',y='Profit',color='green')\n",
    "plt.show()"
   ]
  },
  {
   "cell_type": "code",
   "execution_count": 34,
   "id": "f24abc02",
   "metadata": {},
   "outputs": [
    {
     "data": {
      "text/plain": [
       "LinearRegression()"
      ]
     },
     "execution_count": 34,
     "metadata": {},
     "output_type": "execute_result"
    }
   ],
   "source": [
    "from sklearn.linear_model import LinearRegression\n",
    "regressor=LinearRegression()\n",
    "regressor.fit(x_train,y_train)"
   ]
  },
  {
   "cell_type": "code",
   "execution_count": 35,
   "id": "54a081c5",
   "metadata": {},
   "outputs": [
    {
     "name": "stdout",
     "output_type": "stream",
     "text": [
      "[ 89624.88499983  88261.44060358  94728.57723845 176034.49990954\n",
      "  83234.84214495 110393.04058199 131831.18880607  91307.52461765\n",
      " 164414.26754671  53585.35570743  66786.11950078 150921.89704628\n",
      " 126746.78121459  59174.341725   177341.80724482  75139.98127599\n",
      " 118605.9491146  164403.24374731 171336.34862472 181885.06087421\n",
      " 118762.26624783  85504.5201526  181345.84072646  83979.76201107\n",
      " 104839.00200137 101067.00608604  53722.31401539  56706.45386115\n",
      "  68732.18107141 209811.34272095 121136.34391499 111557.54775873\n",
      " 101309.70393418 138315.39958078  63806.10546728 108690.79660343\n",
      " 185830.38310114 171796.58186122 174997.97325294 118029.33822338\n",
      "  96553.52264734 165281.03076793 107557.31012676  50557.29080259\n",
      " 116871.82636073  58469.02312669 158771.35516035  78902.17488961\n",
      " 160082.45834529 131494.74562654 185233.67354482 174962.79318566\n",
      "  93579.64586335  78164.61392891 180561.94494338  84821.87449117\n",
      " 143256.92009399 170435.21728058  84188.13777206 105128.89266269\n",
      " 142016.17711741  52352.69882961 141673.45079288 138995.34025103\n",
      "  98128.17857189 113945.01159246 126574.18191679 151953.63890674\n",
      "  58689.41162929 174639.30763053 124455.78288593 168894.28704729\n",
      "  91639.09627154 155988.19861521  84141.93382092  77701.26598966\n",
      " 120771.67191431  93202.83024556 138851.31833079 143435.03120172\n",
      " 171502.27009022 139913.58651319 106191.16076064 155470.92422805\n",
      " 139849.10179055 109994.04650482  69508.71795972  87971.28828425\n",
      " 139964.21158468 148297.48006333 157734.33411496  58369.48912141\n",
      "  93529.74798521 113004.58676514  56381.2521726  107236.26789414\n",
      " 147708.49291933 151962.21946809 167625.09747992 118582.41810675\n",
      " 121120.89899524 139386.24824009 157345.63664385 122319.5973879\n",
      "  86914.16840487 105151.69639275  95157.47229309 178205.73461428\n",
      " 181770.2127381  109652.54183621 165082.82081555 167634.66689263\n",
      " 157820.13925373 174599.34276711 170025.19931955  52139.17476133\n",
      " 176766.05450263 104585.0186007   82545.09933122 138709.60895693\n",
      " 144630.66101185 162033.66822962 170016.12436942 120808.56812142\n",
      " 159235.56115351 110046.51849225 169491.36019494  60596.99166217\n",
      " 158866.23532304 157998.74491915 174328.19840197 156112.61616403\n",
      " 103547.63396397  85458.91251291 141434.05433182 165734.80936825\n",
      " 121539.62832572 170562.43564135 100864.86949721  82457.94166529\n",
      " 178471.00347238 101623.88174527  70331.4587885   90072.65723255\n",
      "  61072.22154665  68736.34043862  73136.92467492 176742.02902153\n",
      "  90064.57113377 128998.71699737  93032.57243205  88583.13235127\n",
      " 172664.56674901  60729.9896911  169370.01131309 166278.94500381\n",
      " 165779.92245025 102529.4900122  181410.55817988  74063.62063787\n",
      "  91101.59217916 135622.46937921  64747.25748795  71599.65942006\n",
      "  60428.68269046 184641.61773385 176640.28450044 158725.38392932\n",
      " 141178.22408898 154429.11848164  58374.50655107  90978.39637071\n",
      " 152703.57620466 168752.21397631  72309.26825255 116422.20721207\n",
      "  80448.38430783 149647.19558454 116627.64518798 130022.82306379\n",
      " 174888.14264374 293492.48984534 146100.99822157 150464.91899219\n",
      "  86467.61783875  70328.52100342  70458.08685528  68869.46933558\n",
      " 120487.1622868   89500.33665356 167178.54698757 125346.44063256\n",
      "  67033.96565195 140708.04064616 118376.48566826 165726.35967814\n",
      " 169009.62956152 146839.78084885 141215.12028542 108907.75284131]\n"
     ]
    }
   ],
   "source": [
    "y_pred=regressor.predict(x_test)\n",
    "print(y_pred)"
   ]
  },
  {
   "cell_type": "code",
   "execution_count": 37,
   "id": "4a928161",
   "metadata": {},
   "outputs": [
    {
     "data": {
      "text/plain": [
       "array([ 5.27572958e-01,  8.44490415e-01,  1.06639226e-01, -3.54869857e+02])"
      ]
     },
     "execution_count": 37,
     "metadata": {},
     "output_type": "execute_result"
    }
   ],
   "source": [
    "regressor.coef_"
   ]
  },
  {
   "cell_type": "code",
   "execution_count": 38,
   "id": "fa241101",
   "metadata": {},
   "outputs": [
    {
     "name": "stdout",
     "output_type": "stream",
     "text": [
      "-51144.72642572175\n"
     ]
    }
   ],
   "source": [
    "print(regressor.intercept_)"
   ]
  },
  {
   "cell_type": "code",
   "execution_count": 39,
   "id": "1e56e05e",
   "metadata": {},
   "outputs": [
    {
     "data": {
      "text/plain": [
       "91.12595959622044"
      ]
     },
     "execution_count": 39,
     "metadata": {},
     "output_type": "execute_result"
    }
   ],
   "source": [
    "from sklearn.metrics import r2_score\n",
    "r=r2_score(y_test,y_pred)\n",
    "r*100"
   ]
  },
  {
   "cell_type": "code",
   "execution_count": 45,
   "id": "62473489",
   "metadata": {},
   "outputs": [
    {
     "data": {
      "text/plain": [
       "<AxesSubplot:xlabel='Profit'>"
      ]
     },
     "execution_count": 45,
     "metadata": {},
     "output_type": "execute_result"
    },
    {
     "data": {
      "image/png": "[encoded data removed]",
      "text/plain": [
       "<Figure size 640x480 with 1 Axes>"
      ]
     },
     "metadata": {},
     "output_type": "display_data"
    }
   ],
   "source": [
    "sns.regplot(data=df,x=y_test,y=y_pred,color='red')"
   ]
  },
  {
   "cell_type": "code",
   "execution_count": null,
   "id": "6f304ec0",
   "metadata": {},
   "outputs": [],
   "source": []
  }
 ],
 "metadata": {
  "kernelspec": {
   "display_name": "Python 3 (ipykernel)",
   "language": "python",
   "name": "python3"
  },
  "language_info": {
   "codemirror_mode": {
    "name": "ipython",
    "version": 3
   },
   "file_extension": ".py",
   "mimetype": "text/x-python",
   "name": "python",
   "nbconvert_exporter": "python",
   "pygments_lexer": "ipython3",
   "version": "3.9.13"
  }
 },
 "nbformat": 4,
 "nbformat_minor": 5
}
